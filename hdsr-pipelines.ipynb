{
 "cells": [
  {
   "cell_type": "markdown",
   "metadata": {},
   "source": [
    "# Links\n",
    "- https://www.kaggle.com/c/home-depot-product-search-relevance/\n",
    "    \n",
    "# Discussions\n",
    "- https://www.youtube.com/watch?v=LJH6tnN0WDE"
   ]
  },
  {
   "cell_type": "code",
   "execution_count": 6,
   "metadata": {
    "collapsed": true
   },
   "outputs": [],
   "source": [
    "from functools import partial\n",
    "\n",
    "import pandas as pd\n",
    "import numpy as np\n",
    "import re\n",
    "from nltk import SnowballStemmer\n",
    "from nltk.corpus import stopwords\n",
    "from gensim import matutils\n",
    "from sklearn.base import BaseEstimator, TransformerMixin\n",
    "from sklearn.model_selection import cross_val_score\n",
    "from sklearn.decomposition import TruncatedSVD\n",
    "from sklearn.ensemble.forest import RandomForestRegressor\n",
    "from sklearn.feature_extraction import DictVectorizer\n",
    "from sklearn.feature_extraction.text import CountVectorizer, TfidfVectorizer\n",
    "from sklearn.metrics import mean_squared_error\n",
    "from sklearn.pipeline import make_union, make_pipeline\n",
    "from gensim.models import Word2Vec\n",
    "from sklearn.preprocessing import FunctionTransformer"
   ]
  },
  {
   "cell_type": "code",
   "execution_count": 2,
   "metadata": {},
   "outputs": [
    {
     "name": "stderr",
     "output_type": "stream",
     "text": [
      "/Users/dmitri/anaconda/lib/python2.7/site-packages/sklearn/cross_validation.py:44: DeprecationWarning: This module was deprecated in version 0.18 in favor of the model_selection module into which all the refactored classes and functions are moved. Also note that the interface of the new CV iterators are different from that of this module. This module will be removed in 0.20.\n",
      "  \"This module will be removed in 0.20.\", DeprecationWarning)\n"
     ]
    }
   ],
   "source": [
    "%run ds_tools/dstools/ml/xgboost_tools.py"
   ]
  },
  {
   "cell_type": "code",
   "execution_count": 10,
   "metadata": {},
   "outputs": [],
   "source": [
    "%run hdsr.py"
   ]
  },
  {
   "cell_type": "code",
   "execution_count": 1,
   "metadata": {
    "collapsed": true
   },
   "outputs": [],
   "source": [
    "def dataset(query_file):\n",
    "    q_df = pd.read_csv(query_file, encoding='ISO-8859-1', index_col='id')\n",
    "    q_df['search_term'] = q_df.search_term.str.encode('utf-8')\n",
    "    q_df['product_title'] = q_df.product_title.str.encode('utf-8')\n",
    "\n",
    "    prod_df = pd.read_csv('product_descriptions.csv.gz', encoding='ISO-8859-1', index_col='product_uid')\n",
    "    prod_df['product_description'] = prod_df.product_description.str.encode('utf-8')\n",
    "\n",
    "    df_attr = pd.read_csv('attributes.csv.gz', encoding='ISO-8859-1').dropna()\n",
    "    df_attr['product_uid'] = df_attr['product_uid'].astype(int)\n",
    "    df_attr['name'] = df_attr.name.str.encode('utf-8')\n",
    "    df_attr['value'] = df_attr.value.str.encode('utf-8')\n",
    "    df_brand = df_attr[df_attr.name == \"MFG Brand Name\"][[\"product_uid\", \"value\"]]\\\n",
    "        .rename(columns={\"value\": \"brand\"}).set_index(\"product_uid\")\n",
    "\n",
    "    gr_attr_df = df_attr[[\"product_uid\", \"value\"]].groupby('product_uid')\\\n",
    "        .agg(lambda x: ' '.join(x)).rename(columns={\"value\": \"attrs\"})\n",
    "\n",
    "    df = q_df.merge(prod_df, left_on='product_uid', right_index=True, how='left')\n",
    "    df = df.merge(df_brand, left_on='product_uid', right_index=True, how='left')\n",
    "    df = df.merge(gr_attr_df, left_on='product_uid', right_index=True, how='left')\n",
    "\n",
    "    df = df.fillna('none')\n",
    "\n",
    "    return df"
   ]
  },
  {
   "cell_type": "code",
   "execution_count": 3,
   "metadata": {
    "collapsed": true
   },
   "outputs": [],
   "source": [
    "def cv_test(est):\n",
    "    df = dataset('train.csv.gz')\n",
    "\n",
    "    transf, estimator = est\n",
    "\n",
    "    features = transf.fit_transform(df.drop('relevance', axis=1), df.relevance)\n",
    "\n",
    "    scores = cross_val_score(\n",
    "            estimator=estimator,\n",
    "            X=features,\n",
    "            y=df.relevance,\n",
    "            cv=3,\n",
    "            n_jobs=1,\n",
    "            verbose=1,\n",
    "            scoring=rmse)\n",
    "    print('mean: {mean}, std: {std}'.format(mean=scores.mean(), std=scores.std()))"
   ]
  },
  {
   "cell_type": "code",
   "execution_count": 4,
   "metadata": {
    "collapsed": true
   },
   "outputs": [],
   "source": [
    "def submission(est, name='results'):\n",
    "    df = dataset('train.csv.gz')\n",
    "\n",
    "    features = df.drop(['relevance'], axis=1)\n",
    "    target = df.relevance\n",
    "\n",
    "    transf, estimator = est\n",
    "    pl = make_pipeline(transf, estimator)\n",
    "\n",
    "    model = pl.fit(features, target)\n",
    "\n",
    "    df_test = dataset('test.csv.gz')\n",
    "\n",
    "    y_pred = model.predict(df_test)\n",
    "\n",
    "    y_pred[y_pred < 1] = 1\n",
    "    y_pred[y_pred > 3] = 3\n",
    "\n",
    "    res = pd.Series(y_pred, index=df_test.index, name='relevance')\n",
    "    res.to_csv(name+'.csv', index_label='id', header=True)"
   ]
  },
  {
   "cell_type": "code",
   "execution_count": 7,
   "metadata": {},
   "outputs": [],
   "source": [
    "def column_transformer(name):\n",
    "    return FunctionTransformer(partial(pd.DataFrame.__getitem__, key=name), validate=False)\n",
    "\n",
    "def count_vec():\n",
    "    return CountVectorizer(stop_words=stopwords.words(\"english\"))\n",
    "\n",
    "transf_count = make_union(\n",
    "    make_pipeline(\n",
    "        column_transformer('search_term'),\n",
    "        count_vec()\n",
    "    ),\n",
    "    make_pipeline(\n",
    "        column_transformer('product_title'),\n",
    "        count_vec()\n",
    "    ),\n",
    "    make_pipeline(\n",
    "        column_transformer('product_description'),\n",
    "        count_vec()\n",
    "    ),\n",
    ")"
   ]
  },
  {
   "cell_type": "code",
   "execution_count": 11,
   "metadata": {
    "collapsed": true
   },
   "outputs": [],
   "source": [
    "transf_wv = W2VTransformer(tokenizer=StopwordTokenizer())"
   ]
  },
  {
   "cell_type": "code",
   "execution_count": 12,
   "metadata": {
    "collapsed": true
   },
   "outputs": [],
   "source": [
    "transf3 = make_union(transf_count, transf_wv)"
   ]
  },
  {
   "cell_type": "code",
   "execution_count": 13,
   "metadata": {
    "collapsed": true
   },
   "outputs": [],
   "source": [
    "def tfidf_vec():\n",
    "    return TfidfVectorizer(stop_words=stopwords.words(\"english\"))\n",
    "\n",
    "def tsvd():\n",
    "    return TruncatedSVD(n_components=10)\n",
    "\n",
    "transf_tfidf = make_union(\n",
    "    make_pipeline(\n",
    "        column_transformer('search_term'),\n",
    "        tfidf_vec(),\n",
    "        tsvd(),\n",
    "    ),\n",
    "    make_pipeline(\n",
    "        column_transformer('product_title'),\n",
    "        tfidf_vec(),\n",
    "        tsvd(),\n",
    "    ),\n",
    "    make_pipeline(\n",
    "        column_transformer('product_description'),\n",
    "        tfidf_vec(),\n",
    "        tsvd(),\n",
    "    ),\n",
    ")"
   ]
  },
  {
   "cell_type": "code",
   "execution_count": 14,
   "metadata": {
    "collapsed": true
   },
   "outputs": [],
   "source": [
    "transf_qm = QueryMatchTransformer()"
   ]
  },
  {
   "cell_type": "code",
   "execution_count": 15,
   "metadata": {
    "collapsed": true
   },
   "outputs": [],
   "source": [
    "col2dict = FunctionTransformer(\n",
    "    lambda x: pd.DataFrame(x).to_dict(orient='records'), validate=False)\n",
    "\n",
    "transf_br = make_pipeline(\n",
    "    column_transformer('brand'),\n",
    "    col2dict,\n",
    "    DictVectorizer(),\n",
    ")"
   ]
  },
  {
   "cell_type": "code",
   "execution_count": 16,
   "metadata": {
    "collapsed": true
   },
   "outputs": [],
   "source": [
    "transf5 = make_union(transf_qm, transf_br)"
   ]
  },
  {
   "cell_type": "code",
   "execution_count": 17,
   "metadata": {
    "collapsed": true
   },
   "outputs": [],
   "source": [
    "transf_tfidf2 = make_union(\n",
    "    make_pipeline(\n",
    "        column_transformer('search_term'),\n",
    "        tfidf_vec(),\n",
    "        tsvd(),\n",
    "    ),\n",
    "    make_pipeline(\n",
    "        column_transformer('product_title'),\n",
    "        tfidf_vec(),\n",
    "        tsvd(),\n",
    "    ),\n",
    "    make_pipeline(\n",
    "        column_transformer('brand'),\n",
    "        tfidf_vec(),\n",
    "        tsvd(),\n",
    "    ),\n",
    ")"
   ]
  },
  {
   "cell_type": "code",
   "execution_count": 18,
   "metadata": {
    "collapsed": true
   },
   "outputs": [],
   "source": [
    "transf7 = make_union(\n",
    "    transf_qm,\n",
    "    transf_br,\n",
    "    transf_tfidf2,\n",
    ")"
   ]
  },
  {
   "cell_type": "code",
   "execution_count": 19,
   "metadata": {
    "collapsed": true
   },
   "outputs": [],
   "source": [
    "transf_qms = QueryMatchScoreTransformer()"
   ]
  },
  {
   "cell_type": "code",
   "execution_count": 20,
   "metadata": {
    "collapsed": true
   },
   "outputs": [],
   "source": [
    "def tfidf_vec2():\n",
    "    return TfidfVectorizer(analyzer=CleanupStemTokenizer().tokenize)\n",
    "\n",
    "transf_tfidf3 = make_union(\n",
    "    make_pipeline(\n",
    "        column_transformer('search_term'),\n",
    "        tfidf_vec2(),\n",
    "        tsvd(),\n",
    "    ),\n",
    "    make_pipeline(\n",
    "        column_transformer('product_title'),\n",
    "        tfidf_vec2(),\n",
    "        tsvd(),\n",
    "    ),\n",
    "    make_pipeline(\n",
    "        column_transformer('brand'),\n",
    "        tfidf_vec2(),\n",
    "        tsvd(),\n",
    "    ),\n",
    ")"
   ]
  },
  {
   "cell_type": "code",
   "execution_count": 21,
   "metadata": {
    "collapsed": true
   },
   "outputs": [],
   "source": [
    "transf10 = make_union(transf_qm, transf_qms, transf_wv)"
   ]
  },
  {
   "cell_type": "code",
   "execution_count": 22,
   "metadata": {
    "collapsed": true
   },
   "outputs": [],
   "source": [
    "transf_qma = QueryMatchAttrTransformer()"
   ]
  },
  {
   "cell_type": "code",
   "execution_count": 23,
   "metadata": {
    "collapsed": true
   },
   "outputs": [],
   "source": [
    "transf11 = make_union(transf_qm, transf_qma)"
   ]
  },
  {
   "cell_type": "code",
   "execution_count": 24,
   "metadata": {
    "collapsed": true
   },
   "outputs": [],
   "source": [
    "transf12 = make_union(\n",
    "    transf_qm,\n",
    "    transf_qma,\n",
    "    transf_qms,\n",
    "    transf_wv,\n",
    "    transf_br,\n",
    "    transf_tfidf3,\n",
    ")"
   ]
  },
  {
   "cell_type": "code",
   "execution_count": 25,
   "metadata": {
    "collapsed": true
   },
   "outputs": [],
   "source": [
    "xgb_params = {\n",
    "    \"objective\": \"reg:linear\",\n",
    "    \"eta\": 0.01,\n",
    "    \"min_child_weight\": 6,\n",
    "    \"subsample\": 0.7,\n",
    "    \"colsample_bytree\": 0.7,\n",
    "    \"silent\": 1,\n",
    "    \"max_depth\": 6,\n",
    "    \"num_rounds\": 10000,\n",
    "    \"num_es_rounds\": 120,\n",
    "    \"es_share\": .05,\n",
    "}\n",
    "\n",
    "est_xgb = XGBoostRegressor(**xgb_params)"
   ]
  },
  {
   "cell_type": "code",
   "execution_count": 26,
   "metadata": {
    "collapsed": true
   },
   "outputs": [],
   "source": [
    "xgb_params2 = {\n",
    "    \"objective\": \"reg:linear\",\n",
    "    \"eta\": 0.01,\n",
    "    \"min_child_weight\": 6,\n",
    "    \"subsample\": 0.6,\n",
    "    \"colsample_bytree\": 0.6,\n",
    "    \"silent\": 1,\n",
    "    \"max_depth\": 6,\n",
    "    \"num_rounds\": 10000,\n",
    "    \"num_es_rounds\": 120,\n",
    "    \"es_share\": .05,\n",
    "}\n",
    "\n",
    "est_xgb2 = XGBoostRegressor(**xgb_params2)"
   ]
  },
  {
   "cell_type": "code",
   "execution_count": 27,
   "metadata": {
    "collapsed": true
   },
   "outputs": [],
   "source": [
    "est_rf = RandomForestRegressor(n_estimators=500, n_jobs=2, max_features=10, max_depth=20)"
   ]
  },
  {
   "cell_type": "code",
   "execution_count": 28,
   "metadata": {
    "collapsed": true
   },
   "outputs": [],
   "source": [
    "# mean: 0.524247008053, std: 0.0133952508428\n",
    "# cv execution time: 5424.41613007 sec\n",
    "pl1 = transf_count, est_xgb"
   ]
  },
  {
   "cell_type": "code",
   "execution_count": 29,
   "metadata": {
    "collapsed": true
   },
   "outputs": [],
   "source": [
    "# mean: 0.531791158177, std: 0.00301742594142\n",
    "# cv execution time: 273.821596146 sec\n",
    "pl2 = transf_wv, est_xgb"
   ]
  },
  {
   "cell_type": "code",
   "execution_count": 30,
   "metadata": {
    "collapsed": true
   },
   "outputs": [],
   "source": [
    "# mean: 0.51385278959, std: 0.0149009902673\n",
    "# cv execution time: 4414.65872407 sec\n",
    "pl3 = transf3, est_xgb"
   ]
  },
  {
   "cell_type": "code",
   "execution_count": 31,
   "metadata": {
    "collapsed": true
   },
   "outputs": [],
   "source": [
    "# mean: 0.512169639091, std: 0.0127859600449\n",
    "# cv execution time: 969.822750092 sec\n",
    "pl4 = transf_tfidf, est_xgb"
   ]
  },
  {
   "cell_type": "code",
   "execution_count": 32,
   "metadata": {
    "collapsed": true
   },
   "outputs": [],
   "source": [
    "# mean: 0.495558379131, std: 0.00875619528366\n",
    "# cv execution time: 1017.98022795 sec\n",
    "pl5 = transf5, est_xgb"
   ]
  },
  {
   "cell_type": "code",
   "execution_count": 33,
   "metadata": {
    "collapsed": true
   },
   "outputs": [],
   "source": [
    "# mean: 0.526997056765, std: 0.0113952020154\n",
    "# cv execution time: 467.067214966 sec\n",
    "pl6 = transf7, est_rf"
   ]
  },
  {
   "cell_type": "code",
   "execution_count": 34,
   "metadata": {
    "collapsed": true
   },
   "outputs": [],
   "source": [
    "# mean: 0.474707501422, std: 0.0129297984942\n",
    "# cv execution time: 2155.61947298 sec\n",
    "pl7 = transf7, est_xgb"
   ]
  },
  {
   "cell_type": "code",
   "execution_count": 35,
   "metadata": {
    "collapsed": true
   },
   "outputs": [],
   "source": [
    "# mean: 0.511426873236, std: 0.00848039053981\n",
    "# cv execution time: 673.606554031 sec\n",
    "pl8 = transf_qms, est_xgb"
   ]
  },
  {
   "cell_type": "code",
   "execution_count": 36,
   "metadata": {
    "collapsed": true
   },
   "outputs": [],
   "source": [
    "# mean: 0.498169906059, std: 0.00804649346606\n",
    "# cv execution time: 329.776066065 sec\n",
    "pl9 = transf_qm, est_xgb"
   ]
  },
  {
   "cell_type": "code",
   "execution_count": 37,
   "metadata": {
    "collapsed": true
   },
   "outputs": [],
   "source": [
    "# mean: 0.491104751269, std: 0.00663380880545\n",
    "# cv execution time: 1032.76950693 sec\n",
    "pl10 = transf10, est_xgb"
   ]
  },
  {
   "cell_type": "code",
   "execution_count": 38,
   "metadata": {
    "collapsed": true
   },
   "outputs": [],
   "source": [
    "# mean: 0.498106474773, std: 0.00859122009882\n",
    "# cv execution time: 345.627609015 sec\n",
    "pl11 = transf_qm, est_xgb2"
   ]
  },
  {
   "cell_type": "code",
   "execution_count": 39,
   "metadata": {
    "collapsed": true
   },
   "outputs": [],
   "source": [
    "# mean: 0.514115117917, std: 0.00339352964921\n",
    "# cv execution time: 221.978795052 sec\n",
    "pl12 = transf_qma, est_xgb"
   ]
  },
  {
   "cell_type": "code",
   "execution_count": 40,
   "metadata": {
    "collapsed": true
   },
   "outputs": [],
   "source": [
    "# mean: 0.472303356125, std: 0.0111595095046\n",
    "# cv execution time: 2385.81992888 sec\n",
    "pl13 = transf12, est_xgb2"
   ]
  },
  {
   "cell_type": "code",
   "execution_count": null,
   "metadata": {
    "collapsed": true
   },
   "outputs": [],
   "source": []
  }
 ],
 "metadata": {
  "kernelspec": {
   "display_name": "Python 2",
   "language": "python",
   "name": "python2"
  },
  "language_info": {
   "codemirror_mode": {
    "name": "ipython",
    "version": 2
   },
   "file_extension": ".py",
   "mimetype": "text/x-python",
   "name": "python",
   "nbconvert_exporter": "python",
   "pygments_lexer": "ipython2",
   "version": "2.7.11"
  }
 },
 "nbformat": 4,
 "nbformat_minor": 1
}
