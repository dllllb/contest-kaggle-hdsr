{
 "cells": [
  {
   "cell_type": "code",
   "execution_count": 1,
   "metadata": {
    "collapsed": true
   },
   "outputs": [],
   "source": [
    "from urllib.request import urlopen\n",
    "from pathlib import Path\n",
    "import shutil\n",
    "\n",
    "names = ['attributes.csv.gz', 'product_descriptions.csv.gz']\n",
    "for name in names:\n",
    "    if not Path(name).exists():\n",
    "        url = 'https://storage.googleapis.com/di-datasets/home-depot-search-relevance/{}'.format(name)\n",
    "        with urlopen(url) as u, open(name, 'wb') as f:\n",
    "            shutil.copyfileobj(u, f)"
   ]
  },
  {
   "cell_type": "code",
   "execution_count": null,
   "metadata": {
    "collapsed": true
   },
   "outputs": [],
   "source": []
  }
 ],
 "metadata": {
  "kernelspec": {
   "display_name": "Python 3",
   "language": "python",
   "name": "python3"
  },
  "language_info": {
   "codemirror_mode": {
    "name": "ipython",
    "version": 3
   },
   "file_extension": ".py",
   "mimetype": "text/x-python",
   "name": "python",
   "nbconvert_exporter": "python",
   "pygments_lexer": "ipython3",
   "version": "3.6.1"
  }
 },
 "nbformat": 4,
 "nbformat_minor": 2
}
